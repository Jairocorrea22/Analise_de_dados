{
 "cells": [
  {
   "cell_type": "code",
   "execution_count": 48,
   "metadata": {},
   "outputs": [],
   "source": [
    "from bs4 import BeautifulSoup\n",
    "import requests"
   ]
  },
  {
   "cell_type": "code",
   "execution_count": 49,
   "metadata": {},
   "outputs": [],
   "source": [
    "URL='https://www.amazon.com.br/PlayStation-Console-5/dp/B09FGC9T19/ref=pd_rhf_d_ee_s_pd_sbs_rvi_sccl_1_6/141-5626398-2693264?pd_rd_w=8m8tp&content-id=amzn1.sym.39010e14-3651-4147-a231-9261ab966c9f&pf_rd_p=39010e14-3651-4147-a231-9261ab966c9f&pf_rd_r=PM6HWMTCPRZTZY0VHGG6&pd_rd_wg=l0lOd&pd_rd_r=6c556d67-fd3e-4e22-af7e-4518c6ccf109&pd_rd_i=B09FGC9T19&th=1'"
   ]
  },
  {
   "cell_type": "code",
   "execution_count": 50,
   "metadata": {},
   "outputs": [
    {
     "name": "stdout",
     "output_type": "stream",
     "text": [
      "<span class=\"a-size-large product-title-word-break\" id=\"productTitle\">        Console PlayStation 5       </span>\n"
     ]
    }
   ],
   "source": [
    "headers = {'User-Agent': \"Mozilla/5.0 (Windows NT 10.0; Win64; x64) AppleWebKit/537.36 (KHTML, like Gecko) Chrome/118.0.0.0 Safari/537.36\"}\n",
    "site = requests.get(URL,headers=headers)\n",
    "soup=BeautifulSoup(site.content,'html.parser')\n",
    "title = soup.find('span', id='productTitle')\n",
    "print(title)"
   ]
  },
  {
   "cell_type": "code",
   "execution_count": 51,
   "metadata": {},
   "outputs": [
    {
     "data": {
      "text/plain": [
       "'        Console PlayStation 5       '"
      ]
     },
     "execution_count": 51,
     "metadata": {},
     "output_type": "execute_result"
    }
   ],
   "source": [
    "title = soup.find('span', id='productTitle').get_text()\n",
    "title"
   ]
  },
  {
   "cell_type": "code",
   "execution_count": 52,
   "metadata": {},
   "outputs": [
    {
     "data": {
      "text/plain": [
       "'Console PlayStation 5'"
      ]
     },
     "execution_count": 52,
     "metadata": {},
     "output_type": "execute_result"
    }
   ],
   "source": [
    "title = soup.find('span', id='productTitle').get_text().strip()\n",
    "title\n"
   ]
  },
  {
   "cell_type": "markdown",
   "metadata": {},
   "source": [
    "AGORA IREMOS PEGAR O PREÇO"
   ]
  },
  {
   "cell_type": "code",
   "execution_count": 53,
   "metadata": {},
   "outputs": [
    {
     "data": {
      "text/plain": [
       "<span class=\"a-price-whole\">4.299<span class=\"a-price-decimal\">,</span></span>"
      ]
     },
     "execution_count": 53,
     "metadata": {},
     "output_type": "execute_result"
    }
   ],
   "source": [
    "price = soup.find('span', class_='a-price-whole')\n",
    "price"
   ]
  },
  {
   "cell_type": "code",
   "execution_count": 54,
   "metadata": {},
   "outputs": [
    {
     "data": {
      "text/plain": [
       "'4.299,'"
      ]
     },
     "execution_count": 54,
     "metadata": {},
     "output_type": "execute_result"
    }
   ],
   "source": [
    "price = soup.find('span', class_='a-price-whole').get_text().strip()\n",
    "price"
   ]
  },
  {
   "cell_type": "code",
   "execution_count": 55,
   "metadata": {},
   "outputs": [
    {
     "data": {
      "text/plain": [
       "'4.299'"
      ]
     },
     "execution_count": 55,
     "metadata": {},
     "output_type": "execute_result"
    }
   ],
   "source": [
    "numprice=price[0:5]\n",
    "numprice"
   ]
  },
  {
   "cell_type": "code",
   "execution_count": 56,
   "metadata": {},
   "outputs": [
    {
     "data": {
      "text/plain": [
       "'4299'"
      ]
     },
     "execution_count": 56,
     "metadata": {},
     "output_type": "execute_result"
    }
   ],
   "source": [
    "numprice=numprice.replace('.','')\n",
    "numprice"
   ]
  },
  {
   "cell_type": "code",
   "execution_count": 57,
   "metadata": {},
   "outputs": [
    {
     "data": {
      "text/plain": [
       "str"
      ]
     },
     "execution_count": 57,
     "metadata": {},
     "output_type": "execute_result"
    }
   ],
   "source": [
    "type(numprice)"
   ]
  },
  {
   "cell_type": "code",
   "execution_count": 58,
   "metadata": {},
   "outputs": [],
   "source": [
    "numprice=float(numprice)"
   ]
  },
  {
   "cell_type": "code",
   "execution_count": 59,
   "metadata": {},
   "outputs": [
    {
     "data": {
      "text/plain": [
       "float"
      ]
     },
     "execution_count": 59,
     "metadata": {},
     "output_type": "execute_result"
    }
   ],
   "source": [
    "type(numprice)"
   ]
  },
  {
   "cell_type": "code",
   "execution_count": 60,
   "metadata": {},
   "outputs": [
    {
     "data": {
      "text/plain": [
       "4299.0"
      ]
     },
     "execution_count": 60,
     "metadata": {},
     "output_type": "execute_result"
    }
   ],
   "source": [
    "numprice"
   ]
  },
  {
   "cell_type": "code",
   "execution_count": 61,
   "metadata": {},
   "outputs": [],
   "source": [
    "import smtplib\n",
    "import email.message\n"
   ]
  },
  {
   "cell_type": "code",
   "execution_count": 62,
   "metadata": {},
   "outputs": [],
   "source": [
    "def send_email():\n",
    "    email_content ='https://www.amazon.com.br/PlayStation-Console-5/dp/B09FGC9T19/ref=pd_rhf_d_ee_s_pd_sbs_rvi_sccl_1_6/141-5626398-2693264?pd_rd_w=8m8tp&content-id=amzn1.sym.39010e14-3651-4147-a231-9261ab966c9f&pf_rd_p=39010e14-3651-4147-a231-9261ab966c9f&pf_rd_r=PM6HWMTCPRZTZY0VHGG6&pd_rd_wg=l0lOd&pd_rd_r=6c556d67-fd3e-4e22-af7e-4518c6ccf109&pd_rd_i=B09FGC9T19&th=1'\n",
    "    msg=email.message.Message()\n",
    "    msg['Subject'] = ' O preço do Playstation 5 Baixou!!!'\n",
    "    msg['From']= 'remetente'\n",
    "    msg['To']='destinatario'\n",
    "    password= 'sua senha'\n",
    "    msg.add_header('Content-Type','text/html')\n",
    "    msg.set_payload(email_content)\n",
    "    s=smtplib.SMTP('smtp.gmail.com', 587)\n",
    "    s.starttls()\n",
    "    s.login(msg['From'],password)\n",
    "    s.sendmail(msg['From'], [msg['To']], msg.as_string())\n",
    "    print('Sucesso ao enviar o e-mail')"
   ]
  },
  {
   "cell_type": "code",
   "execution_count": 64,
   "metadata": {},
   "outputs": [
    {
     "name": "stdout",
     "output_type": "stream",
     "text": [
      "Sucesso ao enviar o e-mail\n"
     ]
    }
   ],
   "source": [
    "if (numprice <5000):\n",
    "    send_email()"
   ]
  }
 ],
 "metadata": {
  "kernelspec": {
   "display_name": "Python 3",
   "language": "python",
   "name": "python3"
  },
  "language_info": {
   "codemirror_mode": {
    "name": "ipython",
    "version": 3
   },
   "file_extension": ".py",
   "mimetype": "text/x-python",
   "name": "python",
   "nbconvert_exporter": "python",
   "pygments_lexer": "ipython3",
   "version": "3.10.2"
  },
  "orig_nbformat": 4
 },
 "nbformat": 4,
 "nbformat_minor": 2
}
