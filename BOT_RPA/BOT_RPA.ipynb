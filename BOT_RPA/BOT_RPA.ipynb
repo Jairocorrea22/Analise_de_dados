{
 "cells": [
  {
   "cell_type": "code",
   "execution_count": null,
   "metadata": {},
   "outputs": [],
   "source": [
    "# Importando a função sleep da biblioteca time \n",
    "from time import sleep\n",
    "\n",
    "# Importando os módulos pyautogui e pygetwindow com os apelidos pg e gw, respectivamente.\n",
    "import pyautogui as pg\n",
    "import pygetwindow as gw\n",
    "\n",
    "# Criando uma variavel 'escreva' para a função pg.write, que é usada para simular a digitação de texto.\n",
    "escreva = pg.write\n",
    "\n",
    "# Criando uma variavel 'pressione' para a função pg.press, que é usada para simular a pressão de uma tecla.\n",
    "pressione = pg.press\n"
   ]
  },
  {
   "cell_type": "code",
   "execution_count": null,
   "metadata": {},
   "outputs": [],
   "source": [
    "# Importando a função confirm do módulo pyautogui para exibir uma caixa de diálogo de escolha.\n",
    "escolha = pg.confirm('Clique no botão desejado', buttons=['Notepad', 'Word', 'Excel'])\n",
    "\n",
    "# Verificando qual opção foi escolhida na caixa de diálogo.\n",
    "if escolha == \"Notepad\":\n",
    "    # Pressionando as teclas Windows + R para abrir a caixa de execução.\n",
    "    pg.hotkey('win', 'r')\n",
    "    sleep(2)  # Aguardando 2 segundos.\n",
    "    # Digitando 'Notepad' na caixa de execução.\n",
    "    escreva('Notepad')\n",
    "    pressione('enter')  # Pressionando Enter para executar o Bloco de Notas.\n",
    "    sleep(2)  # Aguardando 2 segundos.\n",
    "    # Digitando mensagem no Bloco de Notas.\n",
    "    escreva('O BOT escolheu Notepad')\n",
    "    sleep(2)  # Aguardando 2 segundos.\n",
    "    # Obtendo referência para a janela do Bloco de Notas.\n",
    "    programaaberto = gw.getWindowsWithTitle('Bloco de Notas')[0]\n",
    "    sleep(1)  # Aguardando 1 segundo.\n",
    "    # Fechando a janela do Bloco de Notas.\n",
    "    programaaberto.close()\n",
    "    pressione('Tab')  # Pressionando a tecla Tab.\n",
    "    pressione('Enter')  # Pressionando a tecla Enter.\n",
    "\n",
    "elif escolha ==\"Word\":\n",
    "    pg.hotkey('win','r')\n",
    "    sleep(2)\n",
    "    escreva('winword')\n",
    "    pressione('enter')\n",
    "    sleep(5)\n",
    "    pressione('enter')\n",
    "    sleep(2)\n",
    "    escreva('O BOT escolheu word')\n",
    "    sleep(2)\n",
    "    programaaberto = gw.getWindowsWithTitle('Word')[0] \n",
    "    sleep(1)\n",
    "    programaaberto.close()\n",
    "    pressione('Tab')\n",
    "    pressione('Enter')\n",
    "\n",
    "elif escolha ==\"Excel\":\n",
    "    pg.hotkey('win','r')\n",
    "    sleep(2)\n",
    "    escreva('Excel')\n",
    "    pressione('enter')\n",
    "    sleep(2)\n",
    "    escreva('O BOT escolheu Excel')\n",
    "    sleep(2)\n",
    "    programaaberto = gw.getWindowsWithTitle('Excel')[0] \n",
    "    sleep(1)\n",
    "    programaaberto.close()\n",
    "    pressione('Tab')\n",
    "    pressione('Enter')\n",
    "\n",
    "\n"
   ]
  }
 ],
 "metadata": {
  "kernelspec": {
   "display_name": "Python 3",
   "language": "python",
   "name": "python3"
  },
  "language_info": {
   "codemirror_mode": {
    "name": "ipython",
    "version": 3
   },
   "file_extension": ".py",
   "mimetype": "text/x-python",
   "name": "python",
   "nbconvert_exporter": "python",
   "pygments_lexer": "ipython3",
   "version": "3.10.2"
  },
  "orig_nbformat": 4
 },
 "nbformat": 4,
 "nbformat_minor": 2
}
